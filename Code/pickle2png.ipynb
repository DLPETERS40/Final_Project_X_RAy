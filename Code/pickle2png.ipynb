{
 "cells": [
  {
   "cell_type": "code",
   "execution_count": 1,
   "id": "c3af5d08",
   "metadata": {},
   "outputs": [],
   "source": [
    "from PIL import Image\n",
    "import torch\n",
    "import torchvision.transforms as transforms\n",
    "import torchvision.models as models\n",
    "import pickle\n",
    "import numpy as np\n",
    "import pandas as pd"
   ]
  },
  {
   "cell_type": "code",
   "execution_count": 4,
   "id": "6c5e40d7",
   "metadata": {},
   "outputs": [],
   "source": [
    "# importing testing data set\n",
    "path = '../Data/testing_xray_images.pkl'\n",
    "with open(path, 'rb') as file:\n",
    "    images = pickle.load(file)"
   ]
  },
  {
   "cell_type": "code",
   "execution_count": 9,
   "id": "a7ad8870",
   "metadata": {},
   "outputs": [],
   "source": [
    "# Load the input image\n",
    "for i, image in enumerate(images):\n",
    "    # Preprocess the image back into jpg\n",
    "    # Convert the image data back to the range [0, 255]\n",
    "    input_image = Image.fromarray((image * 255).astype('uint8'))  # Convert to PIL Image\n",
    "\n",
    "    # Convert the image to grayscale\n",
    "    input_image_gray = input_image.convert('L')\n",
    "\n",
    "# uncomment to display testing data\n",
    "#     # Display the input image\n",
    "#     display(input_image_gray)\n",
    "\n",
    "    # Save the image as a PNG file\n",
    "    file_path = f'../Data/testing/image_{i}.png'  # Define the file path\n",
    "    input_image_gray.save(file_path)  # Save the image as PNG"
   ]
  },
  {
   "cell_type": "code",
   "execution_count": 10,
   "id": "83cdacd4",
   "metadata": {},
   "outputs": [
    {
     "name": "stdout",
     "output_type": "stream",
     "text": [
      "Converted 677 testing images back in to png\n"
     ]
    }
   ],
   "source": [
    "print(f'Converted {i} testing images back in to png')"
   ]
  },
  {
   "cell_type": "code",
   "execution_count": null,
   "id": "5291c062",
   "metadata": {},
   "outputs": [],
   "source": []
  }
 ],
 "metadata": {
  "kernelspec": {
   "display_name": "Python 3 (ipykernel)",
   "language": "python",
   "name": "python3"
  },
  "language_info": {
   "codemirror_mode": {
    "name": "ipython",
    "version": 3
   },
   "file_extension": ".py",
   "mimetype": "text/x-python",
   "name": "python",
   "nbconvert_exporter": "python",
   "pygments_lexer": "ipython3",
   "version": "3.10.13"
  }
 },
 "nbformat": 4,
 "nbformat_minor": 5
}
