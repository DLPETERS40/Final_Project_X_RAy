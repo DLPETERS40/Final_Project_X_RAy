{
 "cells": [
  {
   "cell_type": "code",
   "execution_count": 3,
   "id": "f3c3787e",
   "metadata": {},
   "outputs": [],
   "source": [
    "from PIL import Image\n",
    "import torch\n",
    "import os\n",
    "from PIL import Image\n",
    "import torchvision.transforms as transforms\n",
    "import torchvision.models as models\n",
    "import pickle\n",
    "import numpy as np\n",
    "import pandas as pd"
   ]
  },
  {
   "cell_type": "code",
   "execution_count": 36,
   "id": "fa8dac2d",
   "metadata": {},
   "outputs": [],
   "source": [
    "# Create an empty list to store the X/image arrays\n",
    "image_arrays = []\n",
    "# Specify the directory containing the images\n",
    "image_dir = \"../Data/testing\"\n",
    "# Iterate over the files in the directory\n",
    "for files in os.listdir(image_dir):\n",
    "     # Check if the file is a PNG image\n",
    "        if files.endswith(\".png\"):\n",
    "            # Construct the full file path\n",
    "            file = os.path.join(image_dir, files)\n",
    "        # Load the image\n",
    "        image = Image.open(file)      \n",
    "        # Convert the image to a NumPy array\n",
    "        image_array = np.array(image)           \n",
    "        # Append the image array to the list\n",
    "        image_arrays.append(image_array)"
   ]
  },
  {
   "cell_type": "code",
   "execution_count": 122,
   "id": "daaeda7b",
   "metadata": {},
   "outputs": [
    {
     "data": {
      "text/plain": [
       "array([[0., 1., 0., 0., 0.],\n",
       "       [0., 1., 0., 0., 0.],\n",
       "       [0., 1., 0., 0., 0.],\n",
       "       ...,\n",
       "       [0., 0., 0., 0., 1.],\n",
       "       [0., 0., 0., 0., 1.],\n",
       "       [0., 0., 0., 0., 1.]])"
      ]
     },
     "execution_count": 122,
     "metadata": {},
     "output_type": "execute_result"
    }
   ],
   "source": [
    "# read y training labels for images from csv file\n",
    "y_training_label = np.loadtxt('../Data/Y_Labels/y_training_labels.txt')\n",
    "# display y_train\n",
    "y_training_label"
   ]
  },
  {
   "cell_type": "code",
   "execution_count": 41,
   "id": "0602d642",
   "metadata": {},
   "outputs": [
    {
     "data": {
      "text/plain": [
       "array([[1., 0., 0., 0., 0.],\n",
       "       [1., 0., 0., 0., 0.],\n",
       "       [1., 0., 0., 0., 0.],\n",
       "       ...,\n",
       "       [0., 0., 1., 0., 0.],\n",
       "       [0., 0., 0., 0., 1.],\n",
       "       [0., 0., 0., 1., 0.]])"
      ]
     },
     "execution_count": 41,
     "metadata": {},
     "output_type": "execute_result"
    }
   ],
   "source": [
    "# read y testingg labels for images from csv file\n",
    "y_label = np.loadtxt('../Data/Y_Labels/y_testing_labels.txt')\n",
    "# display y_train\n",
    "y_label"
   ]
  },
  {
   "cell_type": "code",
   "execution_count": 123,
   "id": "5a061854",
   "metadata": {},
   "outputs": [],
   "source": [
    "df = pd.DataFrame(y_training_label)\n",
    "# Add header names to the DataFrame\n",
    "header = ['Benign', 'Knives', 'Gun','Razor Blade','Shuriken'] \n",
    "df.columns = header"
   ]
  },
  {
   "cell_type": "code",
   "execution_count": 42,
   "id": "91c3f9e0",
   "metadata": {},
   "outputs": [
    {
     "name": "stdout",
     "output_type": "stream",
     "text": [
      "Number of images = 678, number of labels 678\n"
     ]
    }
   ],
   "source": [
    "print(f'Number of images = {len(image_arrays)}, number of labels {len(y_label)}')"
   ]
  },
  {
   "cell_type": "code",
   "execution_count": 50,
   "id": "2dbab627",
   "metadata": {},
   "outputs": [],
   "source": [
    "def process_image(input_image):\n",
    "    #Preprocess the image back into jpg\n",
    "    # Convert the image data back to the range [0, 255]\n",
    "    input_image = Image.fromarray((input_image * 255).astype('uint8'))  # Convert to PIL Image\n",
    "\n",
    "    # Convert the image to grayscale\n",
    "    input_image_gray = input_image.convert('L')\n",
    "\n",
    "    # Display the input image\n",
    "    display(input_image_gray)"
   ]
  },
  {
   "cell_type": "code",
   "execution_count": 124,
   "id": "8bddec20",
   "metadata": {},
   "outputs": [],
   "source": [
    "def prediction(img,label):\n",
    "    process_image(img)\n",
    "    # Preprocess the image\n",
    "    preprocess = transforms.Compose([\n",
    "        transforms.ToPILImage(),  # Convert NumPy array to PIL Image\n",
    "        transforms.Resize((224, 224)),  # Resize the image to 224x224 pixels\n",
    "        transforms.Grayscale(num_output_channels=3),  # Convert to grayscale with 3 channels\n",
    "        transforms.ToTensor(),           # Convert PIL image to PyTorch tensor\n",
    "        transforms.Normalize(mean=[0.485, 0.456, 0.406], std=[0.229, 0.224, 0.225])  # Normalize the image\n",
    "    ])\n",
    "    input_tensor = preprocess(img)\n",
    "\n",
    "    # Create a PyTorch tensor\n",
    "    input_batch = input_tensor.unsqueeze(0)  # Add batch dimension\n",
    "\n",
    "    # Load a pre-trained model (e.g., ResNet) for image classification\n",
    "    \n",
    "    model = torch.hub.load('pytorch/vision:v0.10.0', 'resnet18', pretrained=True,)\n",
    "    # Set the model to evaluation mode\n",
    "    model.eval()  \n",
    "    with torch.no_grad():\n",
    "        output = model(input_batch)\n",
    "\n",
    "    #  Get predicted class label\n",
    "    _, predicted_idx = torch.max(output, 1)\n",
    "    predicted_class = predicted_idx.item()\n",
    "\n",
    "    print(\"Predicted class:\", predicted_class)\n",
    "    print(f'predictions:\\n{df.iloc[predicted_class]}')\n",
    "    return df.iloc[predicted_class]"
   ]
  },
  {
   "cell_type": "code",
   "execution_count": 125,
   "id": "0ef455e2",
   "metadata": {},
   "outputs": [
    {
     "name": "stdout",
     "output_type": "stream",
     "text": [
      "number of images to chose from = 678\n"
     ]
    }
   ],
   "source": [
    "max_size=len(image_arrays)\n",
    "print(f'number of images to chose from = {max_size}')"
   ]
  },
  {
   "cell_type": "code",
   "execution_count": 133,
   "id": "415595c1",
   "metadata": {},
   "outputs": [
    {
     "data": {
      "image/jpeg": "[encoded data removed]",
      "image/png": "[encoded data removed]",
      "text/plain": [
       "<PIL.Image.Image image mode=L size=224x224>"
      ]
     },
     "metadata": {},
     "output_type": "display_data"
    },
    {
     "name": "stdout",
     "output_type": "stream",
     "text": [
      "Predicted class: 676\n",
      "predictions:\n",
      "Benign         0.0\n",
      "Knives         0.0\n",
      "Gun            0.0\n",
      "Razor Blade    0.0\n",
      "Shuriken       1.0\n",
      "Name: 676, dtype: float64\n"
     ]
    },
    {
     "name": "stderr",
     "output_type": "stream",
     "text": [
      "Using cache found in C:\\Users\\kwan/.cache\\torch\\hub\\pytorch_vision_v0.10.0\n"
     ]
    }
   ],
   "source": [
    "input = 20\n",
    "#print(image_arrays[input])\n",
    "if input < max_size:\n",
    "    predicted_class=prediction(image_arrays[input],df)\n",
    "else:\n",
    "    print(f'There are only {max_size} images to chose from.')"
   ]
  },
  {
   "cell_type": "code",
   "execution_count": 112,
   "id": "df4bb983",
   "metadata": {},
   "outputs": [
    {
     "name": "stdout",
     "output_type": "stream",
     "text": [
      "Shape of DataFrame df: (678, 5)\n",
      "Predicted class: 691\n"
     ]
    }
   ],
   "source": [
    "print(\"Shape of DataFrame df:\", df.shape)\n",
    "print(\"Predicted class:\", predicted_class)"
   ]
  },
  {
   "cell_type": "code",
   "execution_count": 117,
   "id": "3a2fcc72",
   "metadata": {},
   "outputs": [
    {
     "data": {
      "text/plain": [
       "678"
      ]
     },
     "execution_count": 117,
     "metadata": {},
     "output_type": "execute_result"
    }
   ],
   "source": [
    "len(df)"
   ]
  },
  {
   "cell_type": "code",
   "execution_count": null,
   "id": "ec4c924a",
   "metadata": {},
   "outputs": [],
   "source": []
  }
 ],
 "metadata": {
  "kernelspec": {
   "display_name": "Python 3 (ipykernel)",
   "language": "python",
   "name": "python3"
  },
  "language_info": {
   "codemirror_mode": {
    "name": "ipython",
    "version": 3
   },
   "file_extension": ".py",
   "mimetype": "text/x-python",
   "name": "python",
   "nbconvert_exporter": "python",
   "pygments_lexer": "ipython3",
   "version": "3.10.13"
  }
 },
 "nbformat": 4,
 "nbformat_minor": 5
}
